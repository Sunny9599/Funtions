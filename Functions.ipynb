{
  "nbformat": 4,
  "nbformat_minor": 0,
  "metadata": {
    "colab": {
      "provenance": []
    },
    "kernelspec": {
      "name": "python3",
      "display_name": "Python 3"
    },
    "language_info": {
      "name": "python"
    }
  },
  "cells": [
    {
      "cell_type": "markdown",
      "source": [
        "# Theory Questions:"
      ],
      "metadata": {
        "id": "lP1J2v7X6w1x"
      }
    },
    {
      "cell_type": "markdown",
      "source": [
        "1.  What is the difference between a function and a method in Python?\n",
        "    >In Python, a function is a reusable block of code that performs a specific task, while a method is a function associated with an object (or class) and operates on the data within that object.\n",
        "\n",
        "    > Example:\n",
        "        def greet(name):\n",
        "        \"\"\"This function greets the person passed in as an argument.\"\"\"\n",
        "        print(f\"Hello, {name}!\")\n",
        "\n",
        "        greet(\"Alice\")  # Output: Hello, Alice!\n",
        "   >> this is a user define functions where as\n",
        "\n",
        "   >> print() is a build in functions which print anything as it is.\n",
        "\n",
        "\n",
        "2.  Explain the concept of function arguments and parameters in Python.\n",
        "    >In Python, function parameters are placeholders for values that a function expects as input, while arguments are the actual values passed to the function when it's called.\n",
        "\n",
        "    > Example:\n",
        "\n",
        "\n",
        "      >def greet(name, greeting=\"Hello\"):  # 'name' and 'greeting' are parameters\n",
        "          print(f\"{greeting}, {name}!\")\n",
        "\n",
        "       greet(\"Alice\")  # \"Alice\" is an argument\n",
        "       greet(\"Bob\", \"Hi\")  # \"Bob\" and \"Hi\" are arguments\n",
        "\n",
        "\n",
        "3.  What are the different ways to define and call a function in Python?\n",
        "    >In Python, you define a function using the def keyword followed by the function name, parentheses for parameters (if any), and a colon, then indent the function's body. To call a function, write its name followed by parentheses, including arguments if needed.\n",
        "\n",
        "    >Example:\n",
        "    \n",
        "\n",
        "      >def greet(name):  # Function definition with a parameter 'name'\n",
        "           \"\"\"\n",
        "           This function greets the person passed in as an argument.\n",
        "           \"\"\"\n",
        "           print(f\"Hello, {name}!\")  # Function body, prints a greeting\n",
        "\n",
        "       # Calling a function\n",
        "       greet(\"Alice\")  # Function call with the argument \"Alice\"\n",
        "\n",
        "\n",
        "4. What is the purpose of the `return` statement in a Python function?\n",
        "   >The return statement in a Python function signals the end of the function's execution and sends a value back to the caller, allowing the function to be \"fruitful\" and its result to be used elsewhere.\n",
        "\n",
        "   >Purpose:\n",
        "   The primary purpose of return is to send a value back to the code that called the function.\n",
        "\n",
        "  >Function Termination:\n",
        "   When a return statement is encountered, the function immediately stops executing, and control is passed back to the caller.\n",
        "\n",
        "  >Return Value:\n",
        "   The value following the return keyword is the value that the function sends back.\n",
        "\n",
        "  >No Return Value:\n",
        "   If a function doesn't have a return statement or if it has a return statement with no value, it implicitly returns None.\n",
        "\n",
        "  >Example:\n",
        "\n",
        "\n",
        "    >def add_numbers(a, b):\n",
        "         \"\"\"\n",
        "         This function takes two numbers as input and returns their sum.\n",
        "         \"\"\"\n",
        "         sum_result = a + b\n",
        "         return sum_result  # Return the calculated sum\n",
        "\n",
        "     # Call the function and store the returned value\n",
        "     result = add_numbers(5, 3)\n",
        "\n",
        "     # Print the returned value\n",
        "     print(result)  # Output: 8\n",
        "\n",
        "\n",
        "5. What are iterators in Python and how do they differ from iterables?\n",
        "   >Iterable:\n",
        "   >>A Python object which can be looped over or iterated over in a loop. Examples of iterables include lists, sets, tuples, dictionaries, strings, etc.\n",
        "\n",
        "   >Iterators:\n",
        "   >>An iterator is an object that can be iterated upon. Thus, iterators contain a countable number of values.\n",
        "\n",
        "\n",
        "6. Explain the concept of generators in Python and how they are defined.\n",
        "   >In Python, generators are functions that produce a sequence of values on demand, using the yield keyword instead of return, allowing for memory-efficient iteration over potentially large or infinite datasets.\n",
        "\n",
        "   >Definition:\n",
        "  >>A generator is a special type of function that returns an iterator object.\n",
        "\n",
        "  >yield Keyword:\n",
        "  >>Instead of returning a value and terminating, a generator function uses yield to pause execution and \"yield\" a value. The function's state is saved, and it can be resumed later to yield the next value.\n",
        "\n",
        "  >Memory Efficiency:\n",
        "  >>Generators are memory-efficient because they generate values one at a time, rather than storing the entire sequence in memory upfront.\n",
        "\n",
        "  >Iteration:\n",
        "  >>You can iterate over a generator using a for loop or by calling the next() function on the generator object.\n",
        "\n",
        "  >Example:\n",
        "\n",
        "\n",
        "    >def even_numbers(limit):\n",
        "     \"\"\"Generates even numbers up to a limit.\"\"\"\n",
        "        n = 0\n",
        "        while n <= limit:\n",
        "            yield n  # Yield the current value\n",
        "         n += 2\n",
        "\n",
        "     # Create a generator object\n",
        "     even_generator = even_numbers(10)\n",
        "\n",
        "     # Iterate over the generator object\n",
        "     for number in even_generator:\n",
        "     print(number)  # Output: 0 2 4 6 8 10\n",
        "\n",
        "\n",
        "7. What are the advantages of using generators over regular functions?\n",
        "   >Generators excel over regular functions by offering memory efficiency through lazy evaluation, generating values on demand rather than storing an entire sequence, and are especially useful for large datasets or infinite streams.\n",
        "\n",
        "   >Advantages with an example:\n",
        "\n",
        "   >1. Memory Efficiency (Lazy Evaluation):\n",
        "\n",
        "   >Generators:\n",
        "   >>Instead of storing all values in memory at once, generators yield (produce) values one at a time, only when they are requested. This is crucial for handling potentially very large datasets or infinite sequences that wouldn't fit in memory if stored as a list or array.\n",
        "\n",
        "   >Regular Functions:\n",
        "  >>Regular functions typically return a complete result (like a list or array) all at once, which can consume significant memory, especially for large datasets.\n",
        "\n",
        "   >2. Performance:\n",
        "\n",
        "   >Generators:\n",
        "   >>The on-demand generation of values can lead to performance improvements, especially when you don't need all the values at once.\n",
        "\n",
        "   >Regular Functions:\n",
        "   >>Creating and storing the entire result in memory can be slower, especially for large datasets.\n",
        "\n",
        "   >3. Simplicity and Readability:\n",
        "\n",
        "   >Generators:\n",
        "   >>The yield keyword makes it easy to define iterative algorithms within a single function.\n",
        "\n",
        "   >Regular Functions:\n",
        "   >>Iterating over large datasets using regular functions might require more complex code and state management.\n",
        "\n",
        "\n",
        "8. What is a lambda function in Python and when is it typically used?\n",
        "   >In Python, a lambda function is a small, anonymous function defined using the lambda keyword, typically used for short, one-time operations, often as arguments to higher-order functions like map, filter, and reduce.\n",
        "\n",
        "   >Syntax:\n",
        "\n",
        "\n",
        "\n",
        "    >lambda arguments: expression\n",
        "\n",
        "   >Example:\n",
        "\n",
        "\n",
        "\n",
        "    ># Regular function\n",
        "     def add_one(x):\n",
        "         return x + 1\n",
        "\n",
        "     # Lambda function (equivalent to the above)\n",
        "     add_one_lambda = lambda x: x + 1\n",
        "\n",
        "     # Using the lambda function\n",
        "     print(add_one_lambda(5))  # Output: 6\n",
        "    \n",
        "\n",
        "9. Explain the purpose and usage of the `map()` function in Python.\n",
        "   >The map() function in Python applies a given function to each item in an iterable (like a list, tuple, or string) and returns an iterator that yields the transformed items.\n",
        "\n",
        "   >Purpose:\n",
        "\n",
        "   >Transformation:\n",
        "   >>The primary purpose of map() is to transform data by applying a function to each element of an iterable.\n",
        "\n",
        "   >Efficiency:\n",
        "   >>It provides a concise and efficient way to perform operations on iterables without using explicit loops.\n",
        "\n",
        "   >Functional Programming:\n",
        "   >>map() aligns with functional programming principles by allowing you to apply a function to data without modifying the original iterable.\n",
        "\n",
        "   >Usage:\n",
        "\n",
        "   >The map() function takes two arguments:\n",
        "\n",
        "   >1. Function: The function to be applied to each element of the iterable.\n",
        "\n",
        "   >2. Iterable: The sequence (list, tuple, string, etc.) whose elements will be transformed.\n",
        "\n",
        "   >Syntax:\n",
        "\n",
        "   >>map(function, iterable, [iterable1, iterable2, ...])\n",
        "\n",
        "   >Example:\n",
        "\n",
        "\n",
        "\n",
        "    >def square(x):\n",
        "         return x * x\n",
        "\n",
        "     numbers = [1, 2, 3, 4, 5]\n",
        "     squared_numbers = map(square, numbers) # Applies the square function to each number\n",
        "     print(list(squared_numbers))  # Output: [1, 4, 9, 16, 25]\n",
        "\n",
        "\n",
        "10. What is the difference between `map()`, `reduce()`, and `filter()` functions in Python?\n",
        "    >Map Function:\n",
        "\n",
        "    >The map () function returns a map object(which is an iterator) of the results after applying the given function to each item of a given iterable (list, tuple, etc.).\n",
        "\n",
        "    >Example: In this example, Python program showcases the usage of the map function to double each number in a given list by applying the double function to each element, and then printing the result as a list.\n",
        "\n",
        "\n",
        "    ># Function to return double of n\n",
        "     def double(n):\n",
        "         return n * 2\n",
        "\n",
        "     # Using map to double all numbers\n",
        "     numbers = [5, 6, 7, 8]\n",
        "     result = map(double, numbers)\n",
        "     print(list(result))# Output (10,12,14,16)\n",
        "\n",
        "  >Reduce Function\n",
        "\n",
        "  >The reduce function is used to apply a particular function passed in its argument to all of the list elements mentioned in the sequence passed along.This function is defined in “functools” module.\n",
        "\n",
        "  >Example : In this example, we are using reduce() function from the functools module to compute the product of elements in a given list by continuously applying the lambda function that multiplies two numbers together, resulting in the final product.\n",
        "\n",
        "\n",
        "\n",
        "    >import functools\n",
        "\n",
        "     # Define a list of numbers\n",
        "     numbers = [1, 2, 3, 4]\n",
        "\n",
        "     # Use reduce to compute the product of list elements\n",
        "     product = functools.reduce(lambda x, y: x * y, numbers)\n",
        "     print(\"Product of list elements:\", product)# Output(product of list of element 24)\n",
        "\n",
        "  >Filter Function\n",
        "\n",
        "  >The filter() method filters the given sequence with the help of a function that tests each element in the sequence to be true or not.\n",
        "\n",
        "  >Example : In this example, we defines a function is_even to check whether a number is even or not. Then, it applies the filter() function to a list of numbers to extract only the even numbers, resulting in a list containing only the even elements. Finally, it prints the list of even numbers.\n",
        "\n",
        "\n",
        "     ># Define a function to check if a number is even\n",
        "      def is_even(n):\n",
        "          return n % 2 == 0\n",
        "\n",
        "     # Define a list of numbers\n",
        "      numbers = [1, 2, 3, 4, 5, 6, 7, 8, 9, 10]\n",
        "\n",
        "     # Use filter to filter out even numbers\n",
        "      even_numbers = filter(is_even, numbers)\n",
        "      print(\"Even numbers:\", list(even_numbers))  \n",
        "\n",
        "\n",
        "\n",
        "    \n",
        "\n",
        "    \n",
        "\n",
        "\n"
      ],
      "metadata": {
        "id": "KEYpbVKj7FGp"
      }
    },
    {
      "cell_type": "markdown",
      "source": [
        " # Practical questions:"
      ],
      "metadata": {
        "id": "z9_Jceg51k-X"
      }
    },
    {
      "cell_type": "markdown",
      "source": [
        "1.  Write a Python function that takes a list of numbers as input and returns the sum of all even numbers in\n",
        "the list.\n",
        "\n"
      ],
      "metadata": {
        "id": "UKLrlp8512of"
      }
    },
    {
      "cell_type": "code",
      "execution_count": null,
      "metadata": {
        "id": "HMpWUJTz1EV1"
      },
      "outputs": [],
      "source": [
        "def sum_of_even_numbers(numbers):\n",
        "  sum = 0\n",
        "  for number in numbers:\n",
        "    if number % 2 == 0:\n",
        "      sum += number\n",
        "  return sum"
      ]
    },
    {
      "cell_type": "code",
      "source": [
        "sum_of_even_numbers([1, 2, 3, 4, 5, 6, 7, 8, 9, 10])"
      ],
      "metadata": {
        "colab": {
          "base_uri": "https://localhost:8080/"
        },
        "id": "fqoVst9Q2PxL",
        "outputId": "6d8b834f-f561-43e7-bf1e-877dca42c805"
      },
      "execution_count": null,
      "outputs": [
        {
          "output_type": "execute_result",
          "data": {
            "text/plain": [
              "30"
            ]
          },
          "metadata": {},
          "execution_count": 3
        }
      ]
    },
    {
      "cell_type": "markdown",
      "source": [
        "2. Create a Python function that accepts a string and returns the reverse of that string"
      ],
      "metadata": {
        "id": "8mh2dPbG2ybD"
      }
    },
    {
      "cell_type": "code",
      "source": [
        "def reverse_string(text):\n",
        "\n",
        "  return text[::-1]"
      ],
      "metadata": {
        "id": "RchFxNjX2cHq"
      },
      "execution_count": null,
      "outputs": []
    },
    {
      "cell_type": "code",
      "source": [
        "reverse_string('hello')"
      ],
      "metadata": {
        "colab": {
          "base_uri": "https://localhost:8080/",
          "height": 36
        },
        "id": "C5I6jl8m3XlS",
        "outputId": "a25639eb-2dac-46e1-c047-43c3eb364236"
      },
      "execution_count": null,
      "outputs": [
        {
          "output_type": "execute_result",
          "data": {
            "text/plain": [
              "'olleh'"
            ],
            "application/vnd.google.colaboratory.intrinsic+json": {
              "type": "string"
            }
          },
          "metadata": {},
          "execution_count": 5
        }
      ]
    },
    {
      "cell_type": "code",
      "source": [],
      "metadata": {
        "id": "joAhlVfj3bsN"
      },
      "execution_count": null,
      "outputs": []
    },
    {
      "cell_type": "markdown",
      "source": [
        "3.  Implement a Python function that takes a list of integers and returns a new list containing the squares of\n",
        "each number."
      ],
      "metadata": {
        "id": "DfaE2wVh3fUh"
      }
    },
    {
      "cell_type": "code",
      "source": [
        "def square_numbers(numbers):\n",
        "\n",
        "  squared_numbers = []\n",
        "  for number in numbers:\n",
        "    squared_numbers.append(number ** 2)  # Calculate the square and add it to the new list\n",
        "  return squared_numbers"
      ],
      "metadata": {
        "id": "ePBi1Srt6td0"
      },
      "execution_count": null,
      "outputs": []
    },
    {
      "cell_type": "code",
      "source": [
        "square_numbers([1,2,3,4,5])"
      ],
      "metadata": {
        "colab": {
          "base_uri": "https://localhost:8080/"
        },
        "id": "Nwy8UyFL64hs",
        "outputId": "5df17515-55cd-41c1-e382-2d61e3315c8a"
      },
      "execution_count": null,
      "outputs": [
        {
          "output_type": "execute_result",
          "data": {
            "text/plain": [
              "[1, 4, 9, 16, 25]"
            ]
          },
          "metadata": {},
          "execution_count": 13
        }
      ]
    },
    {
      "cell_type": "markdown",
      "source": [
        "4. Write a Python function that checks if a given number is prime or not from 1 to 200."
      ],
      "metadata": {
        "id": "ngvmh90b6_nX"
      }
    },
    {
      "cell_type": "code",
      "source": [
        "def is_prime(number):\n",
        "\n",
        "    if number <= 1 or number > 200:\n",
        "        return False\n",
        "    for i in range(2, int(number**0.5) + 1):\n",
        "        if number % i == 0:\n",
        "            return False\n",
        "    return True"
      ],
      "metadata": {
        "id": "bE4Mf78b6-QS"
      },
      "execution_count": null,
      "outputs": []
    },
    {
      "cell_type": "code",
      "source": [
        "number = 45\n",
        "if is_prime(number):\n",
        "    print(f\"{number} is a prime number.\")\n",
        "else:\n",
        "    print(f\"{number} is not a prime number.\")"
      ],
      "metadata": {
        "colab": {
          "base_uri": "https://localhost:8080/"
        },
        "id": "vhKqRLMB7ZGl",
        "outputId": "281d77d4-ff1d-4484-a4da-1a26f236e360"
      },
      "execution_count": null,
      "outputs": [
        {
          "output_type": "stream",
          "name": "stdout",
          "text": [
            "45 is not a prime number.\n"
          ]
        }
      ]
    },
    {
      "cell_type": "code",
      "source": [
        "number = 17\n",
        "if is_prime(number):\n",
        "    print(f\"{number} is a prime number.\")\n",
        "else:\n",
        "    print(f\"{number} is not a prime number.\")"
      ],
      "metadata": {
        "colab": {
          "base_uri": "https://localhost:8080/"
        },
        "id": "YtRCf5hH7cnk",
        "outputId": "8c6db4f7-0791-4a17-c8fb-e2bff60ccf9f"
      },
      "execution_count": null,
      "outputs": [
        {
          "output_type": "stream",
          "name": "stdout",
          "text": [
            "17 is a prime number.\n"
          ]
        }
      ]
    },
    {
      "cell_type": "markdown",
      "source": [
        "5. Create an iterator class in Python that generates the Fibonacci sequence up to a specified number of\n",
        "terms."
      ],
      "metadata": {
        "id": "LtdlO4Kc8BIp"
      }
    },
    {
      "cell_type": "code",
      "source": [
        "class FibonacciIterator:\n",
        "\n",
        "\n",
        "    def __init__(self, max_terms):\n",
        "\n",
        "        self.max_terms = max_terms\n",
        "        self.count = 0  # Current count of terms generated\n",
        "        self.a, self.b = 0, 1  # Initial Fibonacci values\n",
        "\n",
        "    def __iter__(self):\n",
        "\n",
        "        return self\n",
        "\n",
        "    def __next__(self):\n",
        "\n",
        "        if self.count < self.max_terms:\n",
        "            fib_number = self.a\n",
        "            self.a, self.b = self.b, self.a + self.b\n",
        "            self.count += 1\n",
        "            return fib_number\n",
        "        else:\n",
        "            raise StopIteration"
      ],
      "metadata": {
        "id": "oXsGCeWF9d4Y"
      },
      "execution_count": null,
      "outputs": []
    },
    {
      "cell_type": "code",
      "source": [
        "fib_iterator = FibonacciIterator(10)\n",
        "for number in fib_iterator:\n",
        "    print(number)"
      ],
      "metadata": {
        "colab": {
          "base_uri": "https://localhost:8080/"
        },
        "id": "GZatnLj59z0O",
        "outputId": "1778c948-0306-42f2-b476-d6f355fc040d"
      },
      "execution_count": null,
      "outputs": [
        {
          "output_type": "stream",
          "name": "stdout",
          "text": [
            "0\n",
            "1\n",
            "1\n",
            "2\n",
            "3\n",
            "5\n",
            "8\n",
            "13\n",
            "21\n",
            "34\n"
          ]
        }
      ]
    },
    {
      "cell_type": "markdown",
      "source": [
        "6. Write a generator function in Python that yields the powers of 2 up to a given exponent."
      ],
      "metadata": {
        "id": "hEgHhoLY-9CA"
      }
    },
    {
      "cell_type": "code",
      "source": [
        "def powers_of_2(exponent):\n",
        "\n",
        "    for i in range(exponent + 1):\n",
        "        yield 2 ** i"
      ],
      "metadata": {
        "id": "HvhBk7Zd94eq"
      },
      "execution_count": null,
      "outputs": []
    },
    {
      "cell_type": "code",
      "source": [
        "for power in powers_of_2(5):\n",
        "    print(power)"
      ],
      "metadata": {
        "colab": {
          "base_uri": "https://localhost:8080/"
        },
        "id": "2I_8EUsz_ir-",
        "outputId": "55f07f58-1385-43f3-f0d2-2ec4d7f9bcea"
      },
      "execution_count": null,
      "outputs": [
        {
          "output_type": "stream",
          "name": "stdout",
          "text": [
            "1\n",
            "2\n",
            "4\n",
            "8\n",
            "16\n",
            "32\n"
          ]
        }
      ]
    },
    {
      "cell_type": "markdown",
      "source": [
        "7. Implement a generator function that reads a file line by line and yields each line as a string."
      ],
      "metadata": {
        "id": "c1an_HYLAJ3a"
      }
    },
    {
      "cell_type": "code",
      "source": [
        "def read_file_line_by_line(file_path):\n",
        "\n",
        "    with open(file_path, 'r') as file:\n",
        "        for line in file:\n",
        "            yield line.rstrip('\\n')"
      ],
      "metadata": {
        "id": "s4yii8Rs_tBo"
      },
      "execution_count": null,
      "outputs": []
    },
    {
      "cell_type": "markdown",
      "source": [
        "8.  Use a lambda function in Python to sort a list of tuples based on the second element of each tuple."
      ],
      "metadata": {
        "id": "-eM5oIBGBTpc"
      }
    },
    {
      "cell_type": "code",
      "source": [
        "my_list = [('apple', 3), ('banana', 1), ('cherry', 2)]\n",
        "\n",
        "sorted_list = sorted(my_list, key=lambda item: item[1])\n",
        "\n",
        "print(sorted_list)  # Output: [('banana', 1), ('cherry', 2), ('apple', 3)]"
      ],
      "metadata": {
        "colab": {
          "base_uri": "https://localhost:8080/"
        },
        "id": "MVKbYc5nA-ZP",
        "outputId": "853f6067-b208-45e6-eaa2-237a2a7892c8"
      },
      "execution_count": null,
      "outputs": [
        {
          "output_type": "stream",
          "name": "stdout",
          "text": [
            "[('banana', 1), ('cherry', 2), ('apple', 3)]\n"
          ]
        }
      ]
    },
    {
      "cell_type": "markdown",
      "source": [
        "9. Write a Python program that uses `map()` to convert a list of temperatures from Celsius to Fahrenheit."
      ],
      "metadata": {
        "id": "XMFcTSUVB34E"
      }
    },
    {
      "cell_type": "code",
      "source": [
        "def celsius_to_fahrenheit(celsius):\n",
        "\n",
        "    return (celsius * 9/5) + 32\n",
        "\n",
        "celsius_temps = [0, 10, 20, 30, 40]\n",
        "\n",
        "fahrenheit_temps = list(map(celsius_to_fahrenheit, celsius_temps))\n",
        "\n",
        "print(fahrenheit_temps)"
      ],
      "metadata": {
        "colab": {
          "base_uri": "https://localhost:8080/"
        },
        "id": "bEN4wHPnByl4",
        "outputId": "97d6b8a0-9907-4ceb-94f9-a164fb0b7b3a"
      },
      "execution_count": null,
      "outputs": [
        {
          "output_type": "stream",
          "name": "stdout",
          "text": [
            "[32.0, 50.0, 68.0, 86.0, 104.0]\n"
          ]
        }
      ]
    },
    {
      "cell_type": "markdown",
      "source": [
        "10. Create a Python program that uses `filter()` to remove all the vowels from a given string."
      ],
      "metadata": {
        "id": "s9X0MdI0CY2B"
      }
    },
    {
      "cell_type": "code",
      "source": [
        "def remove_vowels(text):\n",
        "\n",
        "    vowels = \"aeiouAEIOU\"\n",
        "    return \"\".join(filter(lambda char: char not in vowels, text))\n",
        "\n",
        "text = \"Hello, World!\"\n",
        "filtered_text = remove_vowels(text)\n",
        "print(filtered_text)"
      ],
      "metadata": {
        "colab": {
          "base_uri": "https://localhost:8080/"
        },
        "id": "WLWq3hYcCPAH",
        "outputId": "50438e7f-7736-43ea-df60-107351b5ef12"
      },
      "execution_count": null,
      "outputs": [
        {
          "output_type": "stream",
          "name": "stdout",
          "text": [
            "Hll, Wrld!\n"
          ]
        }
      ]
    },
    {
      "cell_type": "markdown",
      "source": [
        "11. Answer"
      ],
      "metadata": {
        "id": "ssDatMqNF98h"
      }
    },
    {
      "cell_type": "code",
      "source": [
        "def calculate_order_values(orders):\n",
        "\n",
        "\n",
        "    return list(map(lambda order: (order[0], (order[2] * order[3]) + (10 if (order[2] * order[3]) < 100 else 0)), orders))\n",
        "\n",
        "orders = [\n",
        "    [34587, \"Learning Python, Mark Lutz\", 4, 40.95],\n",
        "    [98762, \"Programming Python, Mark Lutz\", 5, 56.80],\n",
        "    [77226, \"Head First Python, Paul Barry\", 3, 32.95],\n",
        "    [88112, \"Einführung in Python3, Bernd Klein\", 3, 24.99]\n",
        "]\n",
        "\n",
        "order_values = calculate_order_values(orders)\n",
        "print(order_values)"
      ],
      "metadata": {
        "colab": {
          "base_uri": "https://localhost:8080/"
        },
        "id": "xrBAOfaGGFgR",
        "outputId": "8ceb01b7-8b2e-4013-a209-9df73d807ad3"
      },
      "execution_count": null,
      "outputs": [
        {
          "output_type": "stream",
          "name": "stdout",
          "text": [
            "[(34587, 163.8), (98762, 284.0), (77226, 108.85000000000001), (88112, 84.97)]\n"
          ]
        }
      ]
    },
    {
      "cell_type": "code",
      "source": [],
      "metadata": {
        "id": "5GpO6Pv9GfhY"
      },
      "execution_count": null,
      "outputs": []
    }
  ]
}